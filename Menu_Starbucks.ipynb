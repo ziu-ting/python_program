{
 "cells": [
  {
   "cell_type": "code",
   "execution_count": null,
   "metadata": {
    "collapsed": false
   },
   "outputs": [
    {
     "name": "stdout",
     "output_type": "stream",
     "text": [
      "選單：\n",
      "那堤, 冰那堤, 焦糖瑪奇朵, 冰焦糖瑪奇朵, 摩卡, 冰摩卡, 卡布奇諾, 美式咖啡, 冰美式咖啡, 濃粹那堤\n"
     ]
    }
   ],
   "source": [
    "a = {'那堤' : '$105',\n",
    "     '冰那堤' : '$105',\n",
    "     '焦糖瑪奇朵' : '$125',\n",
    "     '冰焦糖瑪奇朵' : '$125',\n",
    "     '摩卡' : '$120',\n",
    "     '冰摩卡' : '$120',\n",
    "     '卡布奇諾' : '$105',\n",
    "     '美式咖啡' : '$85',\n",
    "     '冰美式咖啡' : '$85',\n",
    "     '濃粹那堤' : '$120',\n",
    "}\n",
    "print('選單：')\n",
    "print('那堤, 冰那堤, 焦糖瑪奇朵, 冰焦糖瑪奇朵, 摩卡, 冰摩卡, 卡布奇諾, 美式咖啡, 冰美式咖啡, 濃粹那堤')\n",
    "while True:\n",
    "    menu=input('請輸入產品名稱 (註：容量設定為中杯)')\n",
    "    if menu == '停止查詢':\n",
    "        break        \n",
    "    else:\n",
    "        b=a.get(menu,'查無此商品')\n",
    "        print (b)"
   ]
  },
  {
   "cell_type": "code",
   "execution_count": null,
   "metadata": {
    "collapsed": true
   },
   "outputs": [],
   "source": []
  }
 ],
 "metadata": {
  "kernelspec": {
   "display_name": "Python 3",
   "language": "python",
   "name": "python3"
  },
  "language_info": {
   "codemirror_mode": {
    "name": "ipython",
    "version": 3
   },
   "file_extension": ".py",
   "mimetype": "text/x-python",
   "name": "python",
   "nbconvert_exporter": "python",
   "pygments_lexer": "ipython3",
   "version": "3.4.3"
  }
 },
 "nbformat": 4,
 "nbformat_minor": 0
}
